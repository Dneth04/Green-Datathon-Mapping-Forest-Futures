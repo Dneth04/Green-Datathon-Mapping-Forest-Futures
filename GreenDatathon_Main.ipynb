{
  "nbformat": 4,
  "nbformat_minor": 0,
  "metadata": {
    "colab": {
      "provenance": [],
      "authorship_tag": "ABX9TyNZ8TCVVnkDEGhZDjcX08CU",
      "include_colab_link": true
    },
    "kernelspec": {
      "name": "python3",
      "display_name": "Python 3"
    },
    "language_info": {
      "name": "python"
    }
  },
  "cells": [
    {
      "cell_type": "markdown",
      "metadata": {
        "id": "view-in-github",
        "colab_type": "text"
      },
      "source": [
        "<a href=\"https://colab.research.google.com/github/ms2176/Green-Datathon-Mapping-Forest-Futures/blob/main/GreenDatathon_Main.ipynb\" target=\"_parent\"><img src=\"https://colab.research.google.com/assets/colab-badge.svg\" alt=\"Open In Colab\"/></a>"
      ]
    },
    {
      "cell_type": "code",
      "source": [],
      "metadata": {
        "id": "4fA5H0-KKFcE"
      },
      "execution_count": null,
      "outputs": []
    },
    {
      "cell_type": "markdown",
      "source": [],
      "metadata": {
        "id": "nod75nXLJNIG"
      }
    },
    {
      "cell_type": "markdown",
      "source": [
        "# GreenDatathon: Mapping Forest Futures\n",
        "\n",
        "## Introduction and Event Overview\n",
        "\n",
        "Welcome to the GreenDatathon: Mapping Forest Futures! This 3-hour data analysis challenge focuses on global forest trends from 1990 to 2020. Our goal is to introduce you to data manipulation and basic programming skills using real-world environmental data.\n"
      ],
      "metadata": {
        "id": "EHxMl0YLJ8-o"
      }
    },
    {
      "cell_type": "code",
      "source": [
        "## Instructions for Loading the Dataset\n",
        "\n",
        "## To load the dataset, run the following code:\n",
        "\n",
        "import pandas as pd\n",
        "import matplotlib.pyplot as plt"
      ],
      "metadata": {
        "id": "a14HcAblKRsc"
      },
      "execution_count": null,
      "outputs": []
    },
    {
      "cell_type": "code",
      "source": [
        "# If you're using Google Colab, uncomment and run this cell to upload the data\n",
        "# from google.colab import files\n",
        "# uploaded = files.upload()\n",
        "\n",
        "# Load the dataset\n",
        "df = pd.read_csv('Forest_Area.csv')"
      ],
      "metadata": {
        "id": "WrTs72BoKdyF"
      },
      "execution_count": null,
      "outputs": []
    },
    {
      "cell_type": "markdown",
      "source": [
        "## Data Exploration\n",
        "Let's explore the dataset:"
      ],
      "metadata": {
        "id": "JgstXXENKgjr"
      }
    },
    {
      "cell_type": "code",
      "source": [
        "# Display the first 5 rows\n",
        "print(df.head())\n",
        "\n",
        "# Display basic information about the dataset\n",
        "print(df.info())\n",
        "\n",
        "# Display summary statistics\n",
        "print(df.describe())"
      ],
      "metadata": {
        "id": "yREowxaWKlAB"
      },
      "execution_count": null,
      "outputs": []
    },
    {
      "cell_type": "markdown",
      "source": [
        "## Data Filtering\n",
        "Now, let's filter the data to show countries with large forest areas:"
      ],
      "metadata": {
        "id": "j7b4PrHNKrHZ"
      }
    },
    {
      "cell_type": "code",
      "source": [
        "# Filter countries with forest area > 1,000,000 ha in 2020\n",
        "large_forest_countries = df[df['2020'] > 1000000]\n",
        "print(large_forest_countries[['Country', '2020']])"
      ],
      "metadata": {
        "id": "WzvxO9fyKtay"
      },
      "execution_count": null,
      "outputs": []
    },
    {
      "cell_type": "markdown",
      "source": [
        "## Data Grouping and Aggregation\n",
        "Let's calculate the average forest area by continent:"
      ],
      "metadata": {
        "id": "dEtcsyUZKyWk"
      }
    },
    {
      "cell_type": "code",
      "source": [
        "# Calculate average forest area by continent in 2020\n",
        "if 'Continent' in df.columns:\n",
        "    avg_forest_by_continent = df.groupby('Continent')['2020'].mean()\n",
        "    print(avg_forest_by_continent)\n",
        "else:\n",
        "    print(\"No 'Continent' column found. Please group by another relevant column.\")"
      ],
      "metadata": {
        "id": "56_U91qvK04I"
      },
      "execution_count": null,
      "outputs": []
    },
    {
      "cell_type": "markdown",
      "source": [
        "## Data Visualization\n",
        "Now, let's create a visualization:"
      ],
      "metadata": {
        "id": "biFh1o18K2zI"
      }
    },
    {
      "cell_type": "code",
      "source": [
        "# Create a bar plot of the top 10 countries by forest area in 2020\n",
        "top_10 = df.nlargest(10, '2020')\n",
        "plt.figure(figsize=(12,6))\n",
        "plt.bar(top_10['Country'], top_10['2020'])\n",
        "plt.title('Top 10 Countries by Forest Area in 2020')\n",
        "plt.xlabel('Country')\n",
        "plt.ylabel('Forest Area (1000 ha)')\n",
        "plt.xticks(rotation=45, ha='right')\n",
        "plt.tight_layout()\n",
        "plt.show()"
      ],
      "metadata": {
        "id": "LmoIsewfK5Pn"
      },
      "execution_count": null,
      "outputs": []
    },
    {
      "cell_type": "markdown",
      "source": [
        "# Your Analysis\n",
        "Now it's your turn! Here are some ideas for further exploration:\n",
        "\n",
        "1. Compare forest areas between 1990 and 2020\n",
        "2. Analyze the relationship between forest area and area affected by fire\n",
        "3. Identify countries with the highest deforestation rates"
      ],
      "metadata": {
        "id": "bjmjcSoFK9Gu"
      }
    },
    {
      "cell_type": "code",
      "source": [
        "# Your code here"
      ],
      "metadata": {
        "id": "dN3sr3hrLCs3"
      },
      "execution_count": null,
      "outputs": []
    }
  ]
}